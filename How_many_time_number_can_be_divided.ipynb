{
  "nbformat": 4,
  "nbformat_minor": 0,
  "metadata": {
    "colab": {
      "provenance": [],
      "authorship_tag": "ABX9TyMQzVMtSWnbgEC/ZTOMROKA",
      "include_colab_link": true
    },
    "kernelspec": {
      "name": "python3",
      "display_name": "Python 3"
    },
    "language_info": {
      "name": "python"
    }
  },
  "cells": [
    {
      "cell_type": "markdown",
      "metadata": {
        "id": "view-in-github",
        "colab_type": "text"
      },
      "source": [
        "<a href=\"https://colab.research.google.com/github/karankeshav/Python/blob/main/How_many_time_number_can_be_divided.ipynb\" target=\"_parent\"><img src=\"https://colab.research.google.com/assets/colab-badge.svg\" alt=\"Open In Colab\"/></a>"
      ]
    },
    {
      "cell_type": "code",
      "execution_count": null,
      "metadata": {
        "id": "64Dl_MYl3b6T"
      },
      "outputs": [],
      "source": [
        "\"This code will show how many time a given number can be divided by a particular number before it is equal or less than some particular number\"\n",
        "\n",
        "\n",
        "def div(number):\n",
        "  i=0\n",
        "  while number>=10:\n",
        "    number=number/3\n",
        "    i=i+1\n",
        "    if number<=10:\n",
        "      print(i)\n",
        "      break\n",
        "\n",
        "div(80800)"
      ]
    }
  ]
}