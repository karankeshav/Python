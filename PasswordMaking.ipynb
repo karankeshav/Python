{
  "nbformat": 4,
  "nbformat_minor": 0,
  "metadata": {
    "colab": {
      "provenance": [],
      "authorship_tag": "ABX9TyPfN8hTCSUY4ZRDTJa9LtMU",
      "include_colab_link": true
    },
    "kernelspec": {
      "name": "python3",
      "display_name": "Python 3"
    },
    "language_info": {
      "name": "python"
    }
  },
  "cells": [
    {
      "cell_type": "markdown",
      "metadata": {
        "id": "view-in-github",
        "colab_type": "text"
      },
      "source": [
        "<a href=\"https://colab.research.google.com/github/karankeshav/Python/blob/main/PasswordMaking.ipynb\" target=\"_parent\"><img src=\"https://colab.research.google.com/assets/colab-badge.svg\" alt=\"Open In Colab\"/></a>"
      ]
    },
    {
      "cell_type": "code",
      "execution_count": null,
      "metadata": {
        "id": "6ILDBfhh0Qyx"
      },
      "outputs": [],
      "source": [
        "import string\n",
        "specialchr=string.punctuation\n",
        "password=input(\"Enter your password: \")\n",
        "if len(password)>=10:\n",
        " a=list(map(lambda chr:chr.isupper(),password))\n",
        " if a.count(True)>=2:\n",
        "   b=list(map(lambda chr:chr.islower(),password))\n",
        "   if (b.count(True))>=2:\n",
        "     c=list(map(lambda chr:chr.isdigit(),password))\n",
        "     if (c.count(True))>=1:\n",
        "       d=list(map(lambda chr:chr in specialchr,password))\n",
        "       if (d.count(True))>=3:\n",
        "         print('Valid Password')\n",
        "       else:\n",
        "         print('Your password must contain atleast 3 special character')\n",
        "         print('Invalid Password')\n",
        "     else:\n",
        "       print('Your password must contain atleast 1 digit')\n",
        "       print(\"Invalid Password\")\n",
        "   else:\n",
        "     print('Your password must contain atleast 2 small letter')\n",
        "     print('Invalid Password')\n",
        " else:\n",
        "   print('Your password must contain atleast capital letter')\n",
        "   print('Invalid Password')\n",
        "else:\n",
        "  print(\"Your password must contain atleast 10 character\")\n",
        "  print('Invalid Password')"
      ]
    }
  ]
}