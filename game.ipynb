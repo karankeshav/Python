{
  "nbformat": 4,
  "nbformat_minor": 0,
  "metadata": {
    "colab": {
      "provenance": [],
      "authorship_tag": "ABX9TyODFu0p45pCrishg1lDfGb/",
      "include_colab_link": true
    },
    "kernelspec": {
      "name": "python3",
      "display_name": "Python 3"
    },
    "language_info": {
      "name": "python"
    }
  },
  "cells": [
    {
      "cell_type": "markdown",
      "metadata": {
        "id": "view-in-github",
        "colab_type": "text"
      },
      "source": [
        "<a href=\"https://colab.research.google.com/github/karankeshav/python-guess-number-game/blob/main/game.ipynb\" target=\"_parent\"><img src=\"https://colab.research.google.com/assets/colab-badge.svg\" alt=\"Open In Colab\"/></a>"
      ]
    },
    {
      "cell_type": "markdown",
      "source": [
        "#Guess number game"
      ],
      "metadata": {
        "id": "X8PR7LWoGnwi"
      }
    },
    {
      "cell_type": "code",
      "execution_count": null,
      "metadata": {
        "id": "RC41a1MmGcdx"
      },
      "outputs": [],
      "source": [
        "question=input('hey do you want to play some game:Yes,No')\n",
        "if question== 'Yes':\n",
        "  secretnumber=76\n",
        "  guessednumber=0\n",
        "  while guessednumber!=secretnumber:\n",
        "      guessednumber=int(input(\"enter thr number\"))\n",
        "      if secretnumber>guessednumber:\n",
        "                print('hery its a larger number than that of you entered')\n",
        "      elif guessednumber>secretnumber:\n",
        "                print('hey its smaller than the you entered')\n",
        "      elif guessednumber==secretnumber:\n",
        "                print(\"hey you got it man\")\n",
        "      else:\n",
        "          print('something went wrong')\n",
        "elif question=='No':\n",
        "    print('okay! have a good day')\n",
        "else:\n",
        "    print('something went wrong')"
      ]
    }
  ]
}